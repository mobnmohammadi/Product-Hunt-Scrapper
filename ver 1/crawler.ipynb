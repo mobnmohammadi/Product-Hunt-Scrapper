{
 "cells": [
  {
   "cell_type": "markdown",
   "id": "c554e41b",
   "metadata": {},
   "source": [
    "# Libraries"
   ]
  },
  {
   "cell_type": "code",
   "execution_count": 2,
   "id": "initial_id",
   "metadata": {
    "ExecuteTime": {
     "end_time": "2024-07-25T14:34:24.130802Z",
     "start_time": "2024-07-25T14:34:24.106789Z"
    },
    "collapsed": true
   },
   "outputs": [],
   "source": [
    "import requests\n",
    "from bs4 import BeautifulSoup\n",
    "import pandas as pd\n",
    "import re\n",
    "import numpy as np"
   ]
  },
  {
   "cell_type": "markdown",
   "id": "d0fb542deee347fc",
   "metadata": {
    "collapsed": false
   },
   "source": [
    "# Modify Connection"
   ]
  },
  {
   "cell_type": "code",
   "execution_count": 3,
   "id": "915a5fae204ab375",
   "metadata": {
    "ExecuteTime": {
     "end_time": "2024-07-25T14:34:25.120893Z",
     "start_time": "2024-07-25T14:34:25.101392Z"
    },
    "collapsed": false
   },
   "outputs": [
    {
     "data": {
      "text/plain": [
       "0                                                     NaN\n",
       "1                                                     NaN\n",
       "2                                                     NaN\n",
       "3                                                     NaN\n",
       "4                                                     NaN\n",
       "                              ...                        \n",
       "2538         https://www.producthunt.com/posts/timer-plus\n",
       "2539    https://www.producthunt.com/posts/chat-plus-fo...\n",
       "2540    https://www.producthunt.com/posts/just-in-case...\n",
       "2541    https://www.producthunt.com/posts/better-blog-...\n",
       "2542           https://www.producthunt.com/posts/langsaas\n",
       "Name: Product Link, Length: 2543, dtype: object"
      ]
     },
     "execution_count": 3,
     "metadata": {},
     "output_type": "execute_result"
    }
   ],
   "source": [
    "df_total = pd.read_csv('Total List.csv')\n",
    "df_urls = df_total['Product Link']\n",
    "for item in df_urls:\n",
    "    if item == 'NaN':\n",
    "        item = np.nan\n",
    "        \n",
    "df_urls"
   ]
  },
  {
   "cell_type": "code",
   "execution_count": 4,
   "id": "8163dc643f131568",
   "metadata": {
    "ExecuteTime": {
     "end_time": "2024-07-25T21:28:26.635905Z",
     "start_time": "2024-07-25T21:28:26.622409Z"
    },
    "collapsed": false
   },
   "outputs": [],
   "source": [
    "headers = {\"Accept\": \"application/json, text/plain, */*\",\n",
    "           \"Accept-Encoding\": \"gzip, deflate, br\",\n",
    "           \"Accept-Language\": \"en-US,en;q=0.9\", \"Connection\": \"keep-alive\",\n",
    "           \"user-agent\": \"Mozilla/5.0 (Linux; Android 6.0; Nexus 5 Build/MRA58N) AppleWebKit/537.36 (KHTML, like Gecko) Chrome/116.0.0.0 Mobile Safari/537.36\"}\n",
    "\n",
    "attr = {\n",
    "    'product_title': 'h1',\n",
    "    'class_title': 'text-18 sm:text-32 md:text-32 font-bold text-dark-gray',\n",
    "    'team': 'a',\n",
    "    'class_team': 'text-14 sm:text-16 font-semibold text-light-gray py-3',\n",
    "    'product_category': 'span',\n",
    "    'class_category': 'text-12 font-semibold text-dark-gray text-dark-gray',\n",
    "    'total_up_votes': 'div',\n",
    "    'class_up_votes': 'text-14 font-semibold text-white uppercase',\n",
    "    'class_comments': '#about > div.mb-10.flex.flex-row.justify-between > div:nth-child(3) > div.text-18.font-semibold.text-dark-gray',\n",
    "    'class_day_rank': '#about > div.mb-10.flex.flex-row.justify-between > div:nth-child(5) > div.text-18.font-semibold.text-dark-gray',\n",
    "    \n",
    "    \n",
    "}"
   ]
  },
  {
   "cell_type": "code",
   "execution_count": 11,
   "id": "d3c41547eba433fd",
   "metadata": {
    "ExecuteTime": {
     "end_time": "2024-07-25T21:27:12.861036Z",
     "start_time": "2024-07-25T21:27:11.816901Z"
    },
    "collapsed": false
   },
   "outputs": [],
   "source": [
    "df_first = pd.DataFrame(columns=['Name', 'Product_link', 'Post_link'])\n",
    "df_name = pd.DataFrame(columns=['Name'])\n",
    "for url in df_urls:\n",
    "    if url is not np.nan:\n",
    "        link = str(url).split('/')\n",
    "        if len(link) > 4:\n",
    "            df_name['Name'] = link[4]\n",
    "            if link[3] == 'products':\n",
    "                df_first = df_first._append({'Name': link[4], 'Product_link': 'https://www.producthunt.com/' + 'products' + '/' + link[4], 'Post_link': 'https://www.producthunt.com/' + 'posts' + '/' + link[4]}, ignore_index=True)\n",
    "            elif link[3] == 'posts':\n",
    "                df_first = df_first._append({'Name': link[4], 'Product_link': 'https://www.producthunt.com/' + 'products' + '/' + link[4], 'Post_link': 'https://www.producthunt.com/' + 'posts' + '/' + link[4]}, ignore_index=True)\n",
    "                \n",
    "        else:\n",
    "            df_first = df_first._append({'Product_link': np.nan, 'Post_link': np.nan}, ignore_index=True)\n",
    "                \n",
    "df_name['Name'].to_csv('ids.csv')\n"
   ]
  },
  {
   "cell_type": "code",
   "execution_count": 6,
   "id": "2920b90886eae7c0",
   "metadata": {
    "ExecuteTime": {
     "end_time": "2024-07-25T21:29:06.041901Z",
     "start_time": "2024-07-25T21:29:04.293600Z"
    },
    "collapsed": false
   },
   "outputs": [],
   "source": [
    "# final_data = []\n",
    "# from selenium.webdriver import Chrome\n",
    "# from selenium.webdriver.chrome.options import Options\n",
    "# from time import sleep\n",
    "\n",
    "# class Product:\n",
    "#     def __init__(self, url: str, attr: dict, headers: dict):\n",
    "#         self.url = url\n",
    "#         self.attr = attr\n",
    "#         self.web_obj = None\n",
    "#         self.web_page = None\n",
    "\n",
    "#     def webpage_setup(self):\n",
    "#         try:\n",
    "#             options = Options()\n",
    "#             # options.add_argument(\"--headless=new\")\n",
    "#             options.add_argument(f\"user-agent=Mozilla/5.0 (Linux; Android 6.0; Nexus 5 Build/MRA58N) AppleWebKit/537.36 (KHTML, like Gecko) Chrome/116.0.0.0 Mobile Safari/537.36\")\n",
    "#             # options.add_argument(\"--no-sandbox\")\n",
    "#             # options.add_argument(\"--disable-dev-shm-usage\")\n",
    "#             # options.add_argument(\"disable-gpu\")\n",
    "#             experimen￼\n",
    "# Ein Jung\n",
    "# Designing Product at Notion\n",
    "# ￼\n",
    "# Chris Papazian\n",
    "# Hi! I'm Me!\n",
    "# ￼\n",
    "# Matt Piccolella\n",
    "# Leading Templates at Notion\n",
    "# ￼\n",
    "# Omar Skalli\n",
    "# Co-founder & CEO\n",
    "# ￼\n",
    "# Song-My Tran\n",
    "# product marketer\n",
    "# ￼\n",
    "# Natasha Shahtal_option = {\"excludeSwitches\": [\"enable-automation\",            \n",
    "#                                                     \"ignore-certificate-errors\",\n",
    "#                                                     \"safebrowsing-disable-download-protection\",\n",
    "#                                                     \"safebrowsing-disable-auto-update\",\n",
    "#                                                     \"disable-client-side-phishing-detection\"],\n",
    "#                                 'useAutomationExtension': False}\n",
    "#             for key, value in experimental_option.items():\n",
    "#                 options.add_experimental_option(key, value)\n",
    "#             self.selenium_driver = Chrome(options=options)\n",
    "#             self.selenium_driver.maximize_window()\n",
    "#             self.selenium_driver.set_page_load_timeout(60)\n",
    "#             self.selenium_driver.set_script_timeout(60)\n",
    "#             self.selenium_driver.get(self.url)   \n",
    "#             sleep(10)\n",
    "#             content = self.selenium_driver.page_source.encode('utf-8').strip()\n",
    "#             self.web_page = BeautifulSoup(content,\"html.parser\")\n",
    "#         except Exception as e:\n",
    "#             raise e\n",
    "\n",
    "#     def scrap_page(self):\n",
    "#         product_title = self.web_page.find(self.attr[\"product_title\"], attrs={'class': self.attr['class_title']}).text\n",
    "#         team_member = self.web_page.find_all(self.attr['team'], attrs={'class': self.attr['class_team']})\n",
    "#         team_member = str(team_member)\n",
    "#         team_member = team_member.split(',')\n",
    "#         for i in range(0, len(team_member)):\n",
    "#             match = re.search(r'href=\"([^\"]+)\"', team_member[i])\n",
    "#             if match:\n",
    "#                 href_content = match.group(1)\n",
    "#                 team_member_link = \"https://www.producthunt.com\" + href_content\n",
    "#                 team_member[i] = team_member_link\n",
    "                \n",
    "#         return product_title, team_member\n",
    "\n",
    "# class Post:\n",
    "#     def __init__(self, url: str, attr: dict, headers: dict):\n",
    "#         self.url = url\n",
    "#         self.attr = attr\n",
    "#         self.web_obj = None\n",
    "#         self.web_page = BeautifulSoup(self.web_obj, \"html.parser\")\n",
    "        \n",
    "#     def scrap_page(self):\n",
    "#         product_categories_elements = self.web_page.find_all(self.attr['product_category'], attrs={'class': self.attr['class_category']})\n",
    "#         product_categories = [element.text for element in product_categories_elements]\n",
    "#         total_up_votes = self.web_page.find(self.attr['total_up_votes'], attrs={'class': self.attr['class_up_votes']})\n",
    "#         total_comments = self.web_page.select_one(self.attr['class_comments'])\n",
    "#         day_rank = self.web_page.select_one(self.attr['class_day_rank'])\n",
    "#         # hunter_use = \n",
    "#         # maker_comments\n",
    "        \n",
    "#         return product_categories, total_up_votes, total_comments, day_rank\n",
    "        \n",
    "        \n",
    "# post = 'https://www.producthunt.com/posts/anode'\n",
    "# post_obj = Post(url=post, attr=attr, headers=headers)\n",
    "# final_data.append(post_obj.scrap_page())\n",
    "# ''' product = 'https://www.producthunt.com/products/anode'\n",
    "# product_obj = Product(url=product, attr=attr, headers=headers)\n",
    "# final_data.append(product_obj.scrap_page())\n",
    "# '''\n",
    "# print(final_data)"
   ]
  },
  {
   "cell_type": "code",
   "execution_count": null,
   "id": "187c4a837bce8dce",
   "metadata": {
    "collapsed": false
   },
   "outputs": [],
   "source": []
  }
 ],
 "metadata": {
  "kernelspec": {
   "display_name": "Python 3",
   "language": "python",
   "name": "python3"
  },
  "language_info": {
   "codemirror_mode": {
    "name": "ipython",
    "version": 3
   },
   "file_extension": ".py",
   "mimetype": "text/x-python",
   "name": "python",
   "nbconvert_exporter": "python",
   "pygments_lexer": "ipython3",
   "version": "3.10.12"
  }
 },
 "nbformat": 4,
 "nbformat_minor": 5
}
