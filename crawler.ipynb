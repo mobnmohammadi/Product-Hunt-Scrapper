{
 "cells": [
  {
   "cell_type": "code",
   "execution_count": 3,
   "id": "initial_id",
   "metadata": {
    "ExecuteTime": {
     "end_time": "2024-07-25T14:34:24.130802Z",
     "start_time": "2024-07-25T14:34:24.106789Z"
    },
    "collapsed": true
   },
   "outputs": [],
   "source": [
    "import requests\n",
    "from bs4 import BeautifulSoup\n",
    "import pandas as pd\n",
    "import re\n",
    "import numpy as np"
   ]
  },
  {
   "cell_type": "markdown",
   "id": "d0fb542deee347fc",
   "metadata": {
    "collapsed": false
   },
   "source": [
    "# Modify Connection"
   ]
  },
  {
   "cell_type": "code",
   "execution_count": 4,
   "id": "915a5fae204ab375",
   "metadata": {
    "ExecuteTime": {
     "end_time": "2024-07-25T14:34:25.120893Z",
     "start_time": "2024-07-25T14:34:25.101392Z"
    },
    "collapsed": false
   },
   "outputs": [
    {
     "data": {
      "text/plain": [
       "0                                                     NaN\n",
       "1                                                     NaN\n",
       "2                                                     NaN\n",
       "3                                                     NaN\n",
       "4                                                     NaN\n",
       "                              ...                        \n",
       "2538         https://www.producthunt.com/posts/timer-plus\n",
       "2539    https://www.producthunt.com/posts/chat-plus-fo...\n",
       "2540    https://www.producthunt.com/posts/just-in-case...\n",
       "2541    https://www.producthunt.com/posts/better-blog-...\n",
       "2542           https://www.producthunt.com/posts/langsaas\n",
       "Name: Product Link, Length: 2543, dtype: object"
      ]
     },
     "execution_count": 4,
     "metadata": {},
     "output_type": "execute_result"
    }
   ],
   "source": [
    "df_total = pd.read_csv('Total List.csv')\n",
    "df_urls = df_total['Product Link']\n",
    "for item in df_urls:\n",
    "    if item == 'NaN':\n",
    "        item = np.nan\n",
    "        \n",
    "df_urls"
   ]
  },
  {
   "cell_type": "code",
   "execution_count": 5,
   "id": "8163dc643f131568",
   "metadata": {
    "ExecuteTime": {
     "end_time": "2024-07-25T21:28:26.635905Z",
     "start_time": "2024-07-25T21:28:26.622409Z"
    },
    "collapsed": false
   },
   "outputs": [],
   "source": [
    "headers = {\"Accept\": \"application/json, text/plain, */*\",\n",
    "           \"Accept-Encoding\": \"gzip, deflate, br\",\n",
    "           \"Accept-Language\": \"en-US,en;q=0.9\", \"Connection\": \"keep-alive\",\n",
    "           \"user-agent\": \"Mozilla/5.0 (Linux; Android 6.0; Nexus 5 Build/MRA58N) AppleWebKit/537.36 (KHTML, like Gecko) Chrome/116.0.0.0 Mobile Safari/537.36\"}\n",
    "\n",
    "attr = {\n",
    "    'product_title': 'h1',\n",
    "    'class_title': 'text-18 sm:text-32 md:text-32 font-bold text-dark-gray',\n",
    "    'team': 'a',\n",
    "    'class_team': 'text-14 sm:text-16 font-semibold text-light-gray py-3',\n",
    "    'product_category': 'span',\n",
    "    'class_category': 'text-12 font-semibold text-dark-gray text-dark-gray',\n",
    "    'total_up_votes': 'div',\n",
    "    'class_up_votes': 'text-14 font-semibold text-white uppercase',\n",
    "    'class_comments': '#about > div.mb-10.flex.flex-row.justify-between > div:nth-child(3) > div.text-18.font-semibold.text-dark-gray',\n",
    "    'class_day_rank': '#about > div.mb-10.flex.flex-row.justify-between > div:nth-child(5) > div.text-18.font-semibold.text-dark-gray',\n",
    "    \n",
    "    \n",
    "}"
   ]
  },
  {
   "cell_type": "code",
   "execution_count": 6,
   "id": "d3c41547eba433fd",
   "metadata": {
    "ExecuteTime": {
     "end_time": "2024-07-25T21:27:12.861036Z",
     "start_time": "2024-07-25T21:27:11.816901Z"
    },
    "collapsed": false
   },
   "outputs": [
    {
     "data": {
      "text/html": [
       "<div>\n",
       "<style scoped>\n",
       "    .dataframe tbody tr th:only-of-type {\n",
       "        vertical-align: middle;\n",
       "    }\n",
       "\n",
       "    .dataframe tbody tr th {\n",
       "        vertical-align: top;\n",
       "    }\n",
       "\n",
       "    .dataframe thead th {\n",
       "        text-align: right;\n",
       "    }\n",
       "</style>\n",
       "<table border=\"1\" class=\"dataframe\">\n",
       "  <thead>\n",
       "    <tr style=\"text-align: right;\">\n",
       "      <th></th>\n",
       "      <th>Name</th>\n",
       "      <th>Product_link</th>\n",
       "      <th>Post_link</th>\n",
       "    </tr>\n",
       "  </thead>\n",
       "  <tbody>\n",
       "    <tr>\n",
       "      <th>0</th>\n",
       "      <td>anode</td>\n",
       "      <td>https://www.producthunt.com/products/anode</td>\n",
       "      <td>https://www.producthunt.com/posts/anode</td>\n",
       "    </tr>\n",
       "    <tr>\n",
       "      <th>1</th>\n",
       "      <td>docask</td>\n",
       "      <td>https://www.producthunt.com/products/docask</td>\n",
       "      <td>https://www.producthunt.com/posts/docask</td>\n",
       "    </tr>\n",
       "    <tr>\n",
       "      <th>2</th>\n",
       "      <td>stepseed-v2</td>\n",
       "      <td>https://www.producthunt.com/products/stepseed-v2</td>\n",
       "      <td>https://www.producthunt.com/posts/stepseed-v2</td>\n",
       "    </tr>\n",
       "    <tr>\n",
       "      <th>3</th>\n",
       "      <td>keyzii</td>\n",
       "      <td>https://www.producthunt.com/products/keyzii</td>\n",
       "      <td>https://www.producthunt.com/posts/keyzii</td>\n",
       "    </tr>\n",
       "    <tr>\n",
       "      <th>4</th>\n",
       "      <td>hubql-cli</td>\n",
       "      <td>https://www.producthunt.com/products/hubql-cli</td>\n",
       "      <td>https://www.producthunt.com/posts/hubql-cli</td>\n",
       "    </tr>\n",
       "    <tr>\n",
       "      <th>...</th>\n",
       "      <td>...</td>\n",
       "      <td>...</td>\n",
       "      <td>...</td>\n",
       "    </tr>\n",
       "    <tr>\n",
       "      <th>2454</th>\n",
       "      <td>timer-plus</td>\n",
       "      <td>https://www.producthunt.com/products/timer-plus</td>\n",
       "      <td>https://www.producthunt.com/posts/timer-plus</td>\n",
       "    </tr>\n",
       "    <tr>\n",
       "      <th>2455</th>\n",
       "      <td>chat-plus-for-google-chat-2</td>\n",
       "      <td>https://www.producthunt.com/products/chat-plus...</td>\n",
       "      <td>https://www.producthunt.com/posts/chat-plus-fo...</td>\n",
       "    </tr>\n",
       "    <tr>\n",
       "      <th>2456</th>\n",
       "      <td>just-in-case-message</td>\n",
       "      <td>https://www.producthunt.com/products/just-in-c...</td>\n",
       "      <td>https://www.producthunt.com/posts/just-in-case...</td>\n",
       "    </tr>\n",
       "    <tr>\n",
       "      <th>2457</th>\n",
       "      <td>better-blog-comments-for-shopify</td>\n",
       "      <td>https://www.producthunt.com/products/better-bl...</td>\n",
       "      <td>https://www.producthunt.com/posts/better-blog-...</td>\n",
       "    </tr>\n",
       "    <tr>\n",
       "      <th>2458</th>\n",
       "      <td>langsaas</td>\n",
       "      <td>https://www.producthunt.com/products/langsaas</td>\n",
       "      <td>https://www.producthunt.com/posts/langsaas</td>\n",
       "    </tr>\n",
       "  </tbody>\n",
       "</table>\n",
       "<p>2459 rows × 3 columns</p>\n",
       "</div>"
      ],
      "text/plain": [
       "                                  Name  \\\n",
       "0                                anode   \n",
       "1                               docask   \n",
       "2                          stepseed-v2   \n",
       "3                               keyzii   \n",
       "4                            hubql-cli   \n",
       "...                                ...   \n",
       "2454                        timer-plus   \n",
       "2455       chat-plus-for-google-chat-2   \n",
       "2456              just-in-case-message   \n",
       "2457  better-blog-comments-for-shopify   \n",
       "2458                          langsaas   \n",
       "\n",
       "                                           Product_link  \\\n",
       "0            https://www.producthunt.com/products/anode   \n",
       "1           https://www.producthunt.com/products/docask   \n",
       "2      https://www.producthunt.com/products/stepseed-v2   \n",
       "3           https://www.producthunt.com/products/keyzii   \n",
       "4        https://www.producthunt.com/products/hubql-cli   \n",
       "...                                                 ...   \n",
       "2454    https://www.producthunt.com/products/timer-plus   \n",
       "2455  https://www.producthunt.com/products/chat-plus...   \n",
       "2456  https://www.producthunt.com/products/just-in-c...   \n",
       "2457  https://www.producthunt.com/products/better-bl...   \n",
       "2458      https://www.producthunt.com/products/langsaas   \n",
       "\n",
       "                                              Post_link  \n",
       "0               https://www.producthunt.com/posts/anode  \n",
       "1              https://www.producthunt.com/posts/docask  \n",
       "2         https://www.producthunt.com/posts/stepseed-v2  \n",
       "3              https://www.producthunt.com/posts/keyzii  \n",
       "4           https://www.producthunt.com/posts/hubql-cli  \n",
       "...                                                 ...  \n",
       "2454       https://www.producthunt.com/posts/timer-plus  \n",
       "2455  https://www.producthunt.com/posts/chat-plus-fo...  \n",
       "2456  https://www.producthunt.com/posts/just-in-case...  \n",
       "2457  https://www.producthunt.com/posts/better-blog-...  \n",
       "2458         https://www.producthunt.com/posts/langsaas  \n",
       "\n",
       "[2459 rows x 3 columns]"
      ]
     },
     "execution_count": 6,
     "metadata": {},
     "output_type": "execute_result"
    }
   ],
   "source": [
    "df_first = pd.DataFrame(columns=['Name', 'Product_link', 'Post_link'])\n",
    "\n",
    "for url in df_urls:\n",
    "    if url is not np.nan:\n",
    "        link = str(url).split('/')\n",
    "        if len(link) > 4:\n",
    "            if link[3] == 'products':\n",
    "                df_first = df_first._append({'Name': link[4], 'Product_link': 'https://www.producthunt.com/' + 'products' + '/' + link[4], 'Post_link': 'https://www.producthunt.com/' + 'posts' + '/' + link[4]}, ignore_index=True)\n",
    "            elif link[3] == 'posts':\n",
    "                df_first = df_first._append({'Name': link[4], 'Product_link': 'https://www.producthunt.com/' + 'products' + '/' + link[4], 'Post_link': 'https://www.producthunt.com/' + 'posts' + '/' + link[4]}, ignore_index=True)\n",
    "                \n",
    "        else:\n",
    "            df_first = df_first._append({'Product_link': np.nan, 'Post_link': np.nan}, ignore_index=True)\n",
    "                \n",
    "df_first"
   ]
  },
  {
   "cell_type": "code",
   "execution_count": 9,
   "id": "2920b90886eae7c0",
   "metadata": {
    "ExecuteTime": {
     "end_time": "2024-07-25T21:29:06.041901Z",
     "start_time": "2024-07-25T21:29:04.293600Z"
    },
    "collapsed": false
   },
   "outputs": [
    {
     "name": "stdout",
     "output_type": "stream",
     "text": [
      "[(['Data analysis tools', 'Automation tools', 'Business intelligence software'], None, None, None)]\n"
     ]
    }
   ],
   "source": [
    "final_data = []\n",
    "\n",
    "\n",
    "class Product:\n",
    "    def __init__(self, url: str, attr: dict, headers: dict):\n",
    "        self.url = url\n",
    "        self.attr = attr\n",
    "        self.web_obj = requests.get(url, headers=headers)\n",
    "        self.web_page = BeautifulSoup(self.web_obj.text, \"html.parser\")\n",
    "        \n",
    "    def scrap_page(self):\n",
    "        product_title = self.web_page.find(self.attr[\"product_title\"], attrs={'class': self.attr['class_title']}).text\n",
    "        team_member = self.web_page.find_all(self.attr['team'], attrs={'class': self.attr['class_team']})\n",
    "        team_member = str(team_member)\n",
    "        team_member = team_member.split(',')\n",
    "        for i in range(0, len(team_member)):\n",
    "            match = re.search(r'href=\"([^\"]+)\"', team_member[i])\n",
    "            if match:\n",
    "                href_content = match.group(1)\n",
    "                team_member_link = \"https://www.producthunt.com\" + href_content\n",
    "                team_member[i] = team_member_link\n",
    "                \n",
    "        return product_title, team_member\n",
    "\n",
    "class Post:\n",
    "    def __init__(self, url: str, attr: dict, headers: dict):\n",
    "        self.url = url\n",
    "        self.attr = attr\n",
    "        self.web_obj = requests.get(url, headers=headers)\n",
    "        self.web_page = BeautifulSoup(self.web_obj.text, \"html.parser\")\n",
    "        \n",
    "    def scrap_page(self):\n",
    "        product_categories_elements = self.web_page.find_all(self.attr['product_category'], attrs={'class': self.attr['class_category']})\n",
    "        product_categories = [element.text for element in product_categories_elements]\n",
    "        total_up_votes = self.web_page.find(self.attr['total_up_votes'], attrs={'class': self.attr['class_up_votes']})\n",
    "        total_comments = self.web_page.select_one(self.attr['class_comments'])\n",
    "        day_rank = self.web_page.select_one(self.attr['class_day_rank'])\n",
    "        # hunter_use = \n",
    "        # maker_comments\n",
    "        \n",
    "        return product_categories, total_up_votes, total_comments, day_rank\n",
    "        \n",
    "        \n",
    "post = 'https://www.producthunt.com/products/anode'\n",
    "post_obj = Post(url=post, attr=attr, headers=headers)\n",
    "final_data.append(post_obj.scrap_page())\n",
    "''' product = 'https://www.producthunt.com/products/anode'\n",
    "product_obj = Product(url=product, attr=attr, headers=headers)\n",
    "final_data.append(product_obj.scrap_page())\n",
    "'''\n",
    "print(final_data)"
   ]
  },
  {
   "cell_type": "code",
   "execution_count": null,
   "id": "187c4a837bce8dce",
   "metadata": {
    "collapsed": false
   },
   "outputs": [],
   "source": []
  }
 ],
 "metadata": {
  "kernelspec": {
   "display_name": "Python 3",
   "language": "python",
   "name": "python3"
  },
  "language_info": {
   "codemirror_mode": {
    "name": "ipython",
    "version": 3
   },
   "file_extension": ".py",
   "mimetype": "text/x-python",
   "name": "python",
   "nbconvert_exporter": "python",
   "pygments_lexer": "ipython3",
   "version": "3.10.12"
  }
 },
 "nbformat": 4,
 "nbformat_minor": 5
}
